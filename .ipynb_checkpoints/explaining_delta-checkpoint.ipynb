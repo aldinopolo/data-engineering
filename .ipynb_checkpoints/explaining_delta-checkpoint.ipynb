{
 "cells": [
  {
   "cell_type": "markdown",
   "id": "e85754dd-8c56-486b-9961-725c65bde513",
   "metadata": {
    "tags": []
   },
   "source": [
    "# Explorando nossa camada de armazenamento Gold"
   ]
  },
  {
   "cell_type": "markdown",
   "id": "2a327e15-fbf4-40be-8fa3-caf539c2ed3d",
   "metadata": {},
   "source": [
    "### 🗃️ Como funciona o Delta Lake?\n",
    "\n",
    "1. 📂 **Dados físicos** armazenados como arquivos **Parquet**\n",
    "2. 🧾 **Metadados e logs** salvos na pasta `_delta_log/` (arquivos `.json`)\n",
    "3. 🔄 Cada modificação gera um novo **arquivo de log** com:\n",
    "   - Tipo da operação (ex: `CREATE TABLE`, `MERGE`)\n",
    "   - Arquivos adicionados ou removidos (`add` / `remove`)\n",
    "   - Estatísticas dos dados (min/max/null)\n",
    "\n",
    "> O Delta mantém o histórico de transações como um banco de dados, mas em arquivos no Data Lake!\n"
   ]
  },
  {
   "cell_type": "markdown",
   "id": "b1fbcc66-7d8d-415c-89e8-9db618c164eb",
   "metadata": {
    "tags": []
   },
   "source": [
    "### Primeiro, vamos analisar o conteúdo do arquivo parquet"
   ]
  },
  {
   "cell_type": "code",
   "execution_count": 2,
   "id": "87bcc6bb-07d8-4523-9b88-6e361df345b1",
   "metadata": {},
   "outputs": [
    {
     "data": {
      "text/html": [
       "<div>\n",
       "<style scoped>\n",
       "    .dataframe tbody tr th:only-of-type {\n",
       "        vertical-align: middle;\n",
       "    }\n",
       "\n",
       "    .dataframe tbody tr th {\n",
       "        vertical-align: top;\n",
       "    }\n",
       "\n",
       "    .dataframe thead th {\n",
       "        text-align: right;\n",
       "    }\n",
       "</style>\n",
       "<table border=\"1\" class=\"dataframe\">\n",
       "  <thead>\n",
       "    <tr style=\"text-align: right;\">\n",
       "      <th></th>\n",
       "      <th>customer_id</th>\n",
       "      <th>total_amount</th>\n",
       "    </tr>\n",
       "  </thead>\n",
       "  <tbody>\n",
       "    <tr>\n",
       "      <th>0</th>\n",
       "      <td>1003</td>\n",
       "      <td>300.75</td>\n",
       "    </tr>\n",
       "    <tr>\n",
       "      <th>1</th>\n",
       "      <td>1002</td>\n",
       "      <td>575.60</td>\n",
       "    </tr>\n",
       "    <tr>\n",
       "      <th>2</th>\n",
       "      <td>1001</td>\n",
       "      <td>330.00</td>\n",
       "    </tr>\n",
       "  </tbody>\n",
       "</table>\n",
       "</div>"
      ],
      "text/plain": [
       "  customer_id  total_amount\n",
       "0        1003        300.75\n",
       "1        1002        575.60\n",
       "2        1001        330.00"
      ]
     },
     "execution_count": 2,
     "metadata": {},
     "output_type": "execute_result"
    }
   ],
   "source": [
    "import pandas as pd\n",
    "import pyarrow.parquet as pq\n",
    "\n",
    "# Caminho do arquivo Parquet\n",
    "parquet_path = 'data/example/part-00000-e86aa848-f9ed-4ac7-ac4b-8e1ddb3f2cc0-c000.snappy.parquet'\n",
    "\n",
    "# Lê o conteúdo do arquivo Parquet como DataFrame\n",
    "table = pq.read_table(parquet_path)\n",
    "df_parquet = table.to_pandas()\n",
    "\n",
    "# Exibir as primeiras linhas\n",
    "df_parquet.head()\n"
   ]
  },
  {
   "cell_type": "markdown",
   "id": "6a26b544-8be8-421e-8f7e-228f70dba058",
   "metadata": {
    "tags": []
   },
   "source": [
    "### 📦 O que é Parquet?"
   ]
  },
  {
   "cell_type": "markdown",
   "id": "1193caa7-d195-47dd-82a1-5819bdb2bdb0",
   "metadata": {},
   "source": [
    "- **Formato de armazenamento colunar**\n",
    "- Otimizado para **consulta analítica**\n",
    "- Alta **compressão e performance**\n",
    "- Formato **aberto e interoperável**\n",
    "- Utilizado amplamente por ferramentas como Spark, Hive, Trino e Presto"
   ]
  },
  {
   "cell_type": "markdown",
   "id": "4ca61ff8-eeff-4bb1-a5d1-3d5e4cd71fae",
   "metadata": {
    "tags": []
   },
   "source": [
    "### Em seguida, vamos analisar o conteúdo do diretório _delta_log"
   ]
  },
  {
   "cell_type": "markdown",
   "id": "0afabcde-9d02-46b6-b629-a788893a15a4",
   "metadata": {},
   "source": [
    "O primeiro arquivo JSON registrou a criação inicial da tabela"
   ]
  },
  {
   "cell_type": "code",
   "execution_count": 4,
   "id": "6468422c-cf6f-4a6c-9d1c-ee2a0b0b441e",
   "metadata": {},
   "outputs": [
    {
     "name": "stdout",
     "output_type": "stream",
     "text": [
      "{\n",
      "  \"commitInfo\": {\n",
      "    \"timestamp\": 1753606082636,\n",
      "    \"operation\": \"CREATE TABLE\",\n",
      "    \"operationParameters\": {\n",
      "      \"isManaged\": \"false\",\n",
      "      \"description\": null,\n",
      "      \"partitionBy\": \"[]\",\n",
      "      \"properties\": \"{}\"\n",
      "    },\n",
      "    \"isolationLevel\": \"Serializable\",\n",
      "    \"isBlindAppend\": true,\n",
      "    \"operationMetrics\": {},\n",
      "    \"engineInfo\": \"Apache-Spark/3.4.3 Delta-Lake/2.4.0\",\n",
      "    \"txnId\": \"10dc12d1-8868-42b6-ab77-3b9062614afd\"\n",
      "  }\n",
      "}\n",
      "{\n",
      "  \"protocol\": {\n",
      "    \"minReaderVersion\": 1,\n",
      "    \"minWriterVersion\": 2\n",
      "  }\n",
      "}\n",
      "{\n",
      "  \"metaData\": {\n",
      "    \"id\": \"61290b4f-1eb5-47bb-a6b6-e629d6b3b86e\",\n",
      "    \"format\": {\n",
      "      \"provider\": \"parquet\",\n",
      "      \"options\": {}\n",
      "    },\n",
      "    \"schemaString\": \"{\\\"type\\\":\\\"struct\\\",\\\"fields\\\":[]}\",\n",
      "    \"partitionColumns\": [],\n",
      "    \"configuration\": {},\n",
      "    \"createdTime\": 1753606082467\n",
      "  }\n",
      "}\n"
     ]
    }
   ],
   "source": [
    "import json\n",
    "\n",
    "# Caminhos dos arquivos de log Delta\n",
    "caminho_arquivo_0 = 'data/example/_delta_log/00000000000000000000.json'\n",
    "caminho_arquivo_1 = 'data/example/_delta_log/00000000000000000001.json'\n",
    "\n",
    "# Função para ler as linhas JSON do Delta log\n",
    "def ler_delta_log(caminho):\n",
    "    with open(caminho, 'r') as f:\n",
    "        linhas = f.readlines()\n",
    "        return [json.loads(linha) for linha in linhas]\n",
    "\n",
    "# Leitura dos arquivos\n",
    "log_0 = ler_delta_log(caminho_arquivo_0)\n",
    "log_1 = ler_delta_log(caminho_arquivo_1)\n",
    "\n",
    "# Exemplo de visualização\n",
    "for entrada in log_0:\n",
    "    print(json.dumps(entrada, indent=2))\n"
   ]
  },
  {
   "cell_type": "markdown",
   "id": "924ca325-9247-4426-bfa2-c6bb69191033",
   "metadata": {},
   "source": [
    "O segundo arquivo JSON registrou a inserção de dados na tabela"
   ]
  },
  {
   "cell_type": "code",
   "execution_count": 8,
   "id": "07dac48c-7f75-4a44-8d6e-9664d3d2b14b",
   "metadata": {},
   "outputs": [
    {
     "name": "stdout",
     "output_type": "stream",
     "text": [
      "{\n",
      "  \"commitInfo\": {\n",
      "    \"timestamp\": 1753606984287,\n",
      "    \"operation\": \"CREATE OR REPLACE TABLE AS SELECT\",\n",
      "    \"operationParameters\": {\n",
      "      \"isManaged\": \"false\",\n",
      "      \"description\": null,\n",
      "      \"partitionBy\": \"[]\",\n",
      "      \"properties\": \"{}\"\n",
      "    },\n",
      "    \"readVersion\": 0,\n",
      "    \"isolationLevel\": \"Serializable\",\n",
      "    \"isBlindAppend\": false,\n",
      "    \"operationMetrics\": {\n",
      "      \"numFiles\": \"1\",\n",
      "      \"numOutputRows\": \"3\",\n",
      "      \"numOutputBytes\": \"780\"\n",
      "    },\n",
      "    \"engineInfo\": \"Apache-Spark/3.4.3 Delta-Lake/2.4.0\",\n",
      "    \"txnId\": \"019326b7-9172-40c9-8fad-fa3a8a8f9090\"\n",
      "  }\n",
      "}\n",
      "{\n",
      "  \"metaData\": {\n",
      "    \"id\": \"61290b4f-1eb5-47bb-a6b6-e629d6b3b86e\",\n",
      "    \"format\": {\n",
      "      \"provider\": \"parquet\",\n",
      "      \"options\": {}\n",
      "    },\n",
      "    \"schemaString\": \"{\\\"type\\\":\\\"struct\\\",\\\"fields\\\":[{\\\"name\\\":\\\"customer_id\\\",\\\"type\\\":\\\"string\\\",\\\"nullable\\\":true,\\\"metadata\\\":{}},{\\\"name\\\":\\\"total_amount\\\",\\\"type\\\":\\\"double\\\",\\\"nullable\\\":true,\\\"metadata\\\":{}}]}\",\n",
      "    \"partitionColumns\": [],\n",
      "    \"configuration\": {},\n",
      "    \"createdTime\": 1753606082467\n",
      "  }\n",
      "}\n",
      "{\n",
      "  \"add\": {\n",
      "    \"path\": \"part-00000-e86aa848-f9ed-4ac7-ac4b-8e1ddb3f2cc0-c000.snappy.parquet\",\n",
      "    \"partitionValues\": {},\n",
      "    \"size\": 780,\n",
      "    \"modificationTime\": 1753606980000,\n",
      "    \"dataChange\": true,\n",
      "    \"stats\": \"{\\\"numRecords\\\":3,\\\"minValues\\\":{\\\"customer_id\\\":\\\"1001\\\",\\\"total_amount\\\":300.75},\\\"maxValues\\\":{\\\"customer_id\\\":\\\"1003\\\",\\\"total_amount\\\":575.6},\\\"nullCount\\\":{\\\"customer_id\\\":0,\\\"total_amount\\\":0}}\"\n",
      "  }\n",
      "}\n"
     ]
    }
   ],
   "source": [
    "for entrada in log_1:\n",
    "    print(json.dumps(entrada, indent=2))"
   ]
  },
  {
   "cell_type": "markdown",
   "id": "9d819244-f1ed-42d8-8fb7-72c086ad6872",
   "metadata": {
    "tags": []
   },
   "source": [
    "### 🧱 O que é Delta Lake?"
   ]
  },
  {
   "cell_type": "markdown",
   "id": "501c61a6-e936-44ed-a555-6f2cab4aeca0",
   "metadata": {},
   "source": [
    "- Camada de armazenamento transacional construída sobre o **formato Parquet**\n",
    "- Permite funcionalidades que um Data Lake tradicional não oferece:"
   ]
  },
  {
   "cell_type": "markdown",
   "id": "ecff0715-58ab-457f-86bd-3bf584847233",
   "metadata": {
    "tags": []
   },
   "source": [
    "\n",
    "#### ✅ Funcionalidades principais:\n",
    "\n",
    "\n",
    "- 🔁 **Controle de versão (Time Travel)**\n",
    "- 🔒 **Transações ACID** (Atomicidade, Consistência, Isolamento, Durabilidade)\n",
    "- 📥 **Leitura incremental** para alto desempenho em pipelines\n",
    "- ✏️ **Atualizações, exclusões e merges** nativos (sem reescrever tudo)\n",
    "- 🧾 **Auditoria e governança** com logs detalhados\n",
    "\n",
    "> Base tecnológica essencial para a arquitetura Lakehouse moderna\n"
   ]
  },
  {
   "cell_type": "code",
   "execution_count": null,
   "id": "2235cb08-032d-4321-aaa0-b903a616046c",
   "metadata": {},
   "outputs": [],
   "source": []
  }
 ],
 "metadata": {
  "kernelspec": {
   "display_name": "Python 3 (ipykernel)",
   "language": "python",
   "name": "python3"
  },
  "language_info": {
   "codemirror_mode": {
    "name": "ipython",
    "version": 3
   },
   "file_extension": ".py",
   "mimetype": "text/x-python",
   "name": "python",
   "nbconvert_exporter": "python",
   "pygments_lexer": "ipython3",
   "version": "3.9.12"
  }
 },
 "nbformat": 4,
 "nbformat_minor": 5
}
